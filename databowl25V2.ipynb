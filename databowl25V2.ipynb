{
 "cells": [
  {
   "cell_type": "markdown",
   "metadata": {},
   "source": [
    "# Pre-Snap Game Prediction!"
   ]
  },
  {
   "cell_type": "code",
   "execution_count": 2,
   "metadata": {},
   "outputs": [],
   "source": [
    "import numpy as np\n",
    "import pandas as pd\n",
    "import matplotlib.pyplot as plt\n",
    "import seaborn as sns\n",
    "\n",
    "from sklearn.metrics import accuracy_score, precision_score, recall_score, f1_score\n",
    "from sklearn.model_selection import StratifiedShuffleSplit, GridSearchCV\n",
    "from xgboost import XGBClassifier\n",
    "from sklearn.datasets import make_classification \n",
    "import xgboost as xgb\n",
    "\n",
    "# Function to drop unwanted features from the dataset\n",
    "def drop_unwanted_features(df, features_to_drop):\n",
    "    \"\"\"\n",
    "    Drops specified features (columns) from the DataFrame.\n",
    "    \n",
    "    Parameters:\n",
    "    df (pd.DataFrame): The input DataFrame.\n",
    "    features_to_drop (list): List of column names to drop.\n",
    "    \n",
    "    Returns:\n",
    "    pd.DataFrame: A new DataFrame with the specified columns dropped.\n",
    "    \"\"\"\n",
    "    # Check if all columns to drop exist in the DataFrame\n",
    "    features_to_drop = [feature for feature in features_to_drop if feature in df.columns]\n",
    "    \n",
    "    # Drop the unwanted features\n",
    "    df_cleaned = df.drop(columns=features_to_drop)\n",
    "    \n",
    "    return df_cleaned\n",
    "    # Returns a DataFrame without the unwanted columns\n",
    "\n",
    "# Function to convert game clock time into seconds\n",
    "def convert_to_seconds(game_clock):\n",
    "    \"\"\"\n",
    "    Converts the game clock time (in 'MM:SS' format) to seconds.\n",
    "    \n",
    "    Parameters:\n",
    "    game_clock (str): The game clock time as a string in 'MM:SS' format.\n",
    "    \n",
    "    Returns:\n",
    "    int: The game clock time converted into seconds.\n",
    "    \"\"\"\n",
    "    # Split the clock string into minutes and seconds and convert to integers\n",
    "    minutes, seconds = map(int, game_clock.split(':'))\n",
    "    \n",
    "    # Convert the time into total seconds\n",
    "    return minutes * 60 + seconds\n",
    "\n",
    "# Function to calculate remaining time till the end of the half\n",
    "def calculate_remaining_time_end_of_half(row):\n",
    "    \"\"\"\n",
    "    Calculates the remaining time in seconds until the end of the half based on the game clock and half number.\n",
    "    \n",
    "    Parameters:\n",
    "    row (pd.Series): A row of the DataFrame containing 'gameClock' and 'half' columns.\n",
    "    \n",
    "    Returns:\n",
    "    int: The remaining time in seconds until the end of the half.\n",
    "    \"\"\"\n",
    "    half_game_time = 30 * 60  # 1800 seconds in a half (30 minutes * 60 seconds)\n",
    "    \n",
    "    # Convert the game clock to seconds for the current row\n",
    "    quarter_time_remaining = convert_to_seconds(row['gameClock'])\n",
    "    \n",
    "    # Calculate the total elapsed time in the game up to the current quarter\n",
    "    # Half 1 includes the first two quarters (each 15 minutes or 900 seconds), so we account for that\n",
    "    elapsed_time = (row['half'] - 1) * 900 + (900 - quarter_time_remaining)\n",
    "    \n",
    "    # Remaining time until the end of the half\n",
    "    return half_game_time - elapsed_time\n"
   ]
  },
  {
   "cell_type": "markdown",
   "metadata": {},
   "source": [
    "### Initial Data Understanding and Cleaning"
   ]
  },
  {
   "cell_type": "code",
   "execution_count": 3,
   "metadata": {},
   "outputs": [],
   "source": [
    "plays_df = pd.read_csv(r'C:\\Users\\Karahan C\\Desktop\\Portfolio Projects\\Kaggle\\nfl-big-data-bowl-2025\\plays.csv')\n",
    "games_df = pd.read_csv(r'C:\\Users\\Karahan C\\Desktop\\Portfolio Projects\\Kaggle\\nfl-big-data-bowl-2025\\games.csv')\n"
   ]
  },
  {
   "cell_type": "code",
   "execution_count": 4,
   "metadata": {},
   "outputs": [
    {
     "data": {
      "text/html": [
       "<div>\n",
       "<style scoped>\n",
       "    .dataframe tbody tr th:only-of-type {\n",
       "        vertical-align: middle;\n",
       "    }\n",
       "\n",
       "    .dataframe tbody tr th {\n",
       "        vertical-align: top;\n",
       "    }\n",
       "\n",
       "    .dataframe thead th {\n",
       "        text-align: right;\n",
       "    }\n",
       "</style>\n",
       "<table border=\"1\" class=\"dataframe\">\n",
       "  <thead>\n",
       "    <tr style=\"text-align: right;\">\n",
       "      <th></th>\n",
       "      <th>gameId</th>\n",
       "      <th>playId</th>\n",
       "      <th>playDescription</th>\n",
       "      <th>quarter</th>\n",
       "      <th>down</th>\n",
       "      <th>yardsToGo</th>\n",
       "      <th>possessionTeam</th>\n",
       "      <th>defensiveTeam</th>\n",
       "      <th>yardlineSide</th>\n",
       "      <th>yardlineNumber</th>\n",
       "      <th>...</th>\n",
       "      <th>yardsGained</th>\n",
       "      <th>homeTeamWinProbabilityAdded</th>\n",
       "      <th>visitorTeamWinProbilityAdded</th>\n",
       "      <th>expectedPointsAdded</th>\n",
       "      <th>isDropback</th>\n",
       "      <th>pff_runConceptPrimary</th>\n",
       "      <th>pff_runConceptSecondary</th>\n",
       "      <th>pff_runPassOption</th>\n",
       "      <th>pff_passCoverage</th>\n",
       "      <th>pff_manZone</th>\n",
       "    </tr>\n",
       "  </thead>\n",
       "  <tbody>\n",
       "    <tr>\n",
       "      <th>2991</th>\n",
       "      <td>2022103001</td>\n",
       "      <td>4042</td>\n",
       "      <td>(:03) M.Mariota kneels to ATL 24 for -1 yards.</td>\n",
       "      <td>4</td>\n",
       "      <td>2</td>\n",
       "      <td>10</td>\n",
       "      <td>ATL</td>\n",
       "      <td>CAR</td>\n",
       "      <td>ATL</td>\n",
       "      <td>25</td>\n",
       "      <td>...</td>\n",
       "      <td>-1</td>\n",
       "      <td>0.177876</td>\n",
       "      <td>-0.177876</td>\n",
       "      <td>0.000000</td>\n",
       "      <td>False</td>\n",
       "      <td>UNDEFINED</td>\n",
       "      <td>NaN</td>\n",
       "      <td>0</td>\n",
       "      <td>NaN</td>\n",
       "      <td>NaN</td>\n",
       "    </tr>\n",
       "    <tr>\n",
       "      <th>10075</th>\n",
       "      <td>2022100300</td>\n",
       "      <td>3882</td>\n",
       "      <td>(:45) (Shotgun) M.Stafford pass short left to ...</td>\n",
       "      <td>4</td>\n",
       "      <td>1</td>\n",
       "      <td>10</td>\n",
       "      <td>LA</td>\n",
       "      <td>SF</td>\n",
       "      <td>LA</td>\n",
       "      <td>42</td>\n",
       "      <td>...</td>\n",
       "      <td>9</td>\n",
       "      <td>-0.000912</td>\n",
       "      <td>0.000912</td>\n",
       "      <td>0.139395</td>\n",
       "      <td>True</td>\n",
       "      <td>NaN</td>\n",
       "      <td>NaN</td>\n",
       "      <td>0</td>\n",
       "      <td>Quarters</td>\n",
       "      <td>Zone</td>\n",
       "    </tr>\n",
       "    <tr>\n",
       "      <th>11040</th>\n",
       "      <td>2022092504</td>\n",
       "      <td>2074</td>\n",
       "      <td>(:14) (Shotgun) K.Cousins pass short middle to...</td>\n",
       "      <td>2</td>\n",
       "      <td>2</td>\n",
       "      <td>10</td>\n",
       "      <td>MIN</td>\n",
       "      <td>DET</td>\n",
       "      <td>MIN</td>\n",
       "      <td>44</td>\n",
       "      <td>...</td>\n",
       "      <td>12</td>\n",
       "      <td>-0.007676</td>\n",
       "      <td>0.007676</td>\n",
       "      <td>-0.046069</td>\n",
       "      <td>True</td>\n",
       "      <td>NaN</td>\n",
       "      <td>NaN</td>\n",
       "      <td>0</td>\n",
       "      <td>Cover-1</td>\n",
       "      <td>Man</td>\n",
       "    </tr>\n",
       "    <tr>\n",
       "      <th>1545</th>\n",
       "      <td>2022100911</td>\n",
       "      <td>2708</td>\n",
       "      <td>(7:08) (Shotgun) D.Williams up the middle to A...</td>\n",
       "      <td>3</td>\n",
       "      <td>2</td>\n",
       "      <td>5</td>\n",
       "      <td>ARI</td>\n",
       "      <td>PHI</td>\n",
       "      <td>ARI</td>\n",
       "      <td>40</td>\n",
       "      <td>...</td>\n",
       "      <td>2</td>\n",
       "      <td>-0.022756</td>\n",
       "      <td>0.022756</td>\n",
       "      <td>-0.775662</td>\n",
       "      <td>False</td>\n",
       "      <td>INSIDE ZONE</td>\n",
       "      <td>NaN</td>\n",
       "      <td>1</td>\n",
       "      <td>Cover-3</td>\n",
       "      <td>Zone</td>\n",
       "    </tr>\n",
       "    <tr>\n",
       "      <th>5253</th>\n",
       "      <td>2022091101</td>\n",
       "      <td>2478</td>\n",
       "      <td>(10:23) M.Dunn reported in as eligible.  N.Chu...</td>\n",
       "      <td>3</td>\n",
       "      <td>1</td>\n",
       "      <td>10</td>\n",
       "      <td>CLE</td>\n",
       "      <td>CAR</td>\n",
       "      <td>CAR</td>\n",
       "      <td>35</td>\n",
       "      <td>...</td>\n",
       "      <td>20</td>\n",
       "      <td>-0.005040</td>\n",
       "      <td>0.005040</td>\n",
       "      <td>1.151179</td>\n",
       "      <td>False</td>\n",
       "      <td>POWER</td>\n",
       "      <td>NaN</td>\n",
       "      <td>0</td>\n",
       "      <td>Cover-3</td>\n",
       "      <td>Zone</td>\n",
       "    </tr>\n",
       "  </tbody>\n",
       "</table>\n",
       "<p>5 rows × 50 columns</p>\n",
       "</div>"
      ],
      "text/plain": [
       "           gameId  playId                                    playDescription  \\\n",
       "2991   2022103001    4042     (:03) M.Mariota kneels to ATL 24 for -1 yards.   \n",
       "10075  2022100300    3882  (:45) (Shotgun) M.Stafford pass short left to ...   \n",
       "11040  2022092504    2074  (:14) (Shotgun) K.Cousins pass short middle to...   \n",
       "1545   2022100911    2708  (7:08) (Shotgun) D.Williams up the middle to A...   \n",
       "5253   2022091101    2478  (10:23) M.Dunn reported in as eligible.  N.Chu...   \n",
       "\n",
       "       quarter  down  yardsToGo possessionTeam defensiveTeam yardlineSide  \\\n",
       "2991         4     2         10            ATL           CAR          ATL   \n",
       "10075        4     1         10             LA            SF           LA   \n",
       "11040        2     2         10            MIN           DET          MIN   \n",
       "1545         3     2          5            ARI           PHI          ARI   \n",
       "5253         3     1         10            CLE           CAR          CAR   \n",
       "\n",
       "       yardlineNumber  ... yardsGained  homeTeamWinProbabilityAdded  \\\n",
       "2991               25  ...          -1                     0.177876   \n",
       "10075              42  ...           9                    -0.000912   \n",
       "11040              44  ...          12                    -0.007676   \n",
       "1545               40  ...           2                    -0.022756   \n",
       "5253               35  ...          20                    -0.005040   \n",
       "\n",
       "       visitorTeamWinProbilityAdded expectedPointsAdded  isDropback  \\\n",
       "2991                      -0.177876            0.000000       False   \n",
       "10075                      0.000912            0.139395        True   \n",
       "11040                      0.007676           -0.046069        True   \n",
       "1545                       0.022756           -0.775662       False   \n",
       "5253                       0.005040            1.151179       False   \n",
       "\n",
       "       pff_runConceptPrimary  pff_runConceptSecondary  pff_runPassOption  \\\n",
       "2991               UNDEFINED                      NaN                  0   \n",
       "10075                    NaN                      NaN                  0   \n",
       "11040                    NaN                      NaN                  0   \n",
       "1545             INSIDE ZONE                      NaN                  1   \n",
       "5253                   POWER                      NaN                  0   \n",
       "\n",
       "      pff_passCoverage pff_manZone  \n",
       "2991               NaN         NaN  \n",
       "10075         Quarters        Zone  \n",
       "11040          Cover-1         Man  \n",
       "1545           Cover-3        Zone  \n",
       "5253           Cover-3        Zone  \n",
       "\n",
       "[5 rows x 50 columns]"
      ]
     },
     "execution_count": 4,
     "metadata": {},
     "output_type": "execute_result"
    }
   ],
   "source": [
    "plays_df.sample(5)"
   ]
  },
  {
   "cell_type": "markdown",
   "metadata": {},
   "source": [
    "As we see this dataframe contains various data about plays as descriptive, post-snap or pre-snap. Since we investigate a pre-snap incident we could drop irrelevant features like playDescription.   "
   ]
  },
  {
   "cell_type": "code",
   "execution_count": 5,
   "metadata": {},
   "outputs": [
    {
     "name": "stdout",
     "output_type": "stream",
     "text": [
      "<class 'pandas.core.frame.DataFrame'>\n",
      "RangeIndex: 16124 entries, 0 to 16123\n",
      "Data columns (total 50 columns):\n",
      " #   Column                            Non-Null Count  Dtype  \n",
      "---  ------                            --------------  -----  \n",
      " 0   gameId                            16124 non-null  int64  \n",
      " 1   playId                            16124 non-null  int64  \n",
      " 2   playDescription                   16124 non-null  object \n",
      " 3   quarter                           16124 non-null  int64  \n",
      " 4   down                              16124 non-null  int64  \n",
      " 5   yardsToGo                         16124 non-null  int64  \n",
      " 6   possessionTeam                    16124 non-null  object \n",
      " 7   defensiveTeam                     16124 non-null  object \n",
      " 8   yardlineSide                      15900 non-null  object \n",
      " 9   yardlineNumber                    16124 non-null  int64  \n",
      " 10  gameClock                         16124 non-null  object \n",
      " 11  preSnapHomeScore                  16124 non-null  int64  \n",
      " 12  preSnapVisitorScore               16124 non-null  int64  \n",
      " 13  playNullifiedByPenalty            16124 non-null  object \n",
      " 14  absoluteYardlineNumber            16124 non-null  int64  \n",
      " 15  preSnapHomeTeamWinProbability     16124 non-null  float64\n",
      " 16  preSnapVisitorTeamWinProbability  16124 non-null  float64\n",
      " 17  expectedPoints                    16124 non-null  float64\n",
      " 18  offenseFormation                  15936 non-null  object \n",
      " 19  receiverAlignment                 15936 non-null  object \n",
      " 20  playClockAtSnap                   16123 non-null  float64\n",
      " 21  passResult                        9736 non-null   object \n",
      " 22  passLength                        8726 non-null   float64\n",
      " 23  targetX                           8376 non-null   float64\n",
      " 24  targetY                           8376 non-null   float64\n",
      " 25  playAction                        16124 non-null  bool   \n",
      " 26  dropbackType                      10321 non-null  object \n",
      " 27  dropbackDistance                  10158 non-null  float64\n",
      " 28  passLocationType                  9312 non-null   object \n",
      " 29  timeToThrow                       8705 non-null   float64\n",
      " 30  timeInTackleBox                   8917 non-null   float64\n",
      " 31  timeToSack                        608 non-null    float64\n",
      " 32  passTippedAtLine                  9336 non-null   object \n",
      " 33  unblockedPressure                 9755 non-null   object \n",
      " 34  qbSpike                           9336 non-null   object \n",
      " 35  qbKneel                           16124 non-null  int64  \n",
      " 36  qbSneak                           6788 non-null   object \n",
      " 37  rushLocationType                  6788 non-null   object \n",
      " 38  penaltyYards                      384 non-null    float64\n",
      " 39  prePenaltyYardsGained             16124 non-null  int64  \n",
      " 40  yardsGained                       16124 non-null  int64  \n",
      " 41  homeTeamWinProbabilityAdded       16124 non-null  float64\n",
      " 42  visitorTeamWinProbilityAdded      16124 non-null  float64\n",
      " 43  expectedPointsAdded               16124 non-null  float64\n",
      " 44  isDropback                        16124 non-null  bool   \n",
      " 45  pff_runConceptPrimary             9071 non-null   object \n",
      " 46  pff_runConceptSecondary           2821 non-null   object \n",
      " 47  pff_runPassOption                 16124 non-null  int64  \n",
      " 48  pff_passCoverage                  15932 non-null  object \n",
      " 49  pff_manZone                       15932 non-null  object \n",
      "dtypes: bool(2), float64(15), int64(13), object(20)\n",
      "memory usage: 5.9+ MB\n"
     ]
    }
   ],
   "source": [
    "plays_df.info()"
   ]
  },
  {
   "cell_type": "code",
   "execution_count": 6,
   "metadata": {},
   "outputs": [
    {
     "data": {
      "text/html": [
       "<div>\n",
       "<style scoped>\n",
       "    .dataframe tbody tr th:only-of-type {\n",
       "        vertical-align: middle;\n",
       "    }\n",
       "\n",
       "    .dataframe tbody tr th {\n",
       "        vertical-align: top;\n",
       "    }\n",
       "\n",
       "    .dataframe thead th {\n",
       "        text-align: right;\n",
       "    }\n",
       "</style>\n",
       "<table border=\"1\" class=\"dataframe\">\n",
       "  <thead>\n",
       "    <tr style=\"text-align: right;\">\n",
       "      <th></th>\n",
       "      <th>gameId</th>\n",
       "      <th>season</th>\n",
       "      <th>week</th>\n",
       "      <th>gameDate</th>\n",
       "      <th>gameTimeEastern</th>\n",
       "      <th>homeTeamAbbr</th>\n",
       "      <th>visitorTeamAbbr</th>\n",
       "      <th>homeFinalScore</th>\n",
       "      <th>visitorFinalScore</th>\n",
       "    </tr>\n",
       "  </thead>\n",
       "  <tbody>\n",
       "    <tr>\n",
       "      <th>16</th>\n",
       "      <td>2022091500</td>\n",
       "      <td>2022</td>\n",
       "      <td>2</td>\n",
       "      <td>9/15/2022</td>\n",
       "      <td>20:15:00</td>\n",
       "      <td>KC</td>\n",
       "      <td>LAC</td>\n",
       "      <td>27</td>\n",
       "      <td>24</td>\n",
       "    </tr>\n",
       "    <tr>\n",
       "      <th>83</th>\n",
       "      <td>2022101602</td>\n",
       "      <td>2022</td>\n",
       "      <td>6</td>\n",
       "      <td>10/16/2022</td>\n",
       "      <td>13:00:00</td>\n",
       "      <td>GB</td>\n",
       "      <td>NYJ</td>\n",
       "      <td>10</td>\n",
       "      <td>27</td>\n",
       "    </tr>\n",
       "    <tr>\n",
       "      <th>6</th>\n",
       "      <td>2022091105</td>\n",
       "      <td>2022</td>\n",
       "      <td>1</td>\n",
       "      <td>9/11/2022</td>\n",
       "      <td>13:00:00</td>\n",
       "      <td>HOU</td>\n",
       "      <td>IND</td>\n",
       "      <td>20</td>\n",
       "      <td>20</td>\n",
       "    </tr>\n",
       "    <tr>\n",
       "      <th>65</th>\n",
       "      <td>2022100900</td>\n",
       "      <td>2022</td>\n",
       "      <td>5</td>\n",
       "      <td>10/9/2022</td>\n",
       "      <td>9:30:00</td>\n",
       "      <td>GB</td>\n",
       "      <td>NYG</td>\n",
       "      <td>22</td>\n",
       "      <td>27</td>\n",
       "    </tr>\n",
       "    <tr>\n",
       "      <th>86</th>\n",
       "      <td>2022101605</td>\n",
       "      <td>2022</td>\n",
       "      <td>6</td>\n",
       "      <td>10/16/2022</td>\n",
       "      <td>13:00:00</td>\n",
       "      <td>NO</td>\n",
       "      <td>CIN</td>\n",
       "      <td>26</td>\n",
       "      <td>30</td>\n",
       "    </tr>\n",
       "  </tbody>\n",
       "</table>\n",
       "</div>"
      ],
      "text/plain": [
       "        gameId  season  week    gameDate gameTimeEastern homeTeamAbbr  \\\n",
       "16  2022091500    2022     2   9/15/2022        20:15:00           KC   \n",
       "83  2022101602    2022     6  10/16/2022        13:00:00           GB   \n",
       "6   2022091105    2022     1   9/11/2022        13:00:00          HOU   \n",
       "65  2022100900    2022     5   10/9/2022         9:30:00           GB   \n",
       "86  2022101605    2022     6  10/16/2022        13:00:00           NO   \n",
       "\n",
       "   visitorTeamAbbr  homeFinalScore  visitorFinalScore  \n",
       "16             LAC              27                 24  \n",
       "83             NYJ              10                 27  \n",
       "6              IND              20                 20  \n",
       "65             NYG              22                 27  \n",
       "86             CIN              26                 30  "
      ]
     },
     "execution_count": 6,
     "metadata": {},
     "output_type": "execute_result"
    }
   ],
   "source": [
    "games_df.sample(5)"
   ]
  },
  {
   "cell_type": "code",
   "execution_count": 7,
   "metadata": {},
   "outputs": [
    {
     "data": {
      "text/plain": [
       "Index(['gameId', 'playId', 'playDescription', 'quarter', 'down', 'yardsToGo',\n",
       "       'possessionTeam', 'defensiveTeam', 'yardlineSide', 'yardlineNumber',\n",
       "       'gameClock', 'preSnapHomeScore', 'preSnapVisitorScore',\n",
       "       'playNullifiedByPenalty', 'absoluteYardlineNumber',\n",
       "       'preSnapHomeTeamWinProbability', 'preSnapVisitorTeamWinProbability',\n",
       "       'expectedPoints', 'offenseFormation', 'receiverAlignment',\n",
       "       'playClockAtSnap', 'passResult', 'passLength', 'targetX', 'targetY',\n",
       "       'playAction', 'dropbackType', 'dropbackDistance', 'passLocationType',\n",
       "       'timeToThrow', 'timeInTackleBox', 'timeToSack', 'passTippedAtLine',\n",
       "       'unblockedPressure', 'qbSpike', 'qbKneel', 'qbSneak',\n",
       "       'rushLocationType', 'penaltyYards', 'prePenaltyYardsGained',\n",
       "       'yardsGained', 'homeTeamWinProbabilityAdded',\n",
       "       'visitorTeamWinProbilityAdded', 'expectedPointsAdded', 'isDropback',\n",
       "       'pff_runConceptPrimary', 'pff_runConceptSecondary', 'pff_runPassOption',\n",
       "       'pff_passCoverage', 'pff_manZone'],\n",
       "      dtype='object')"
      ]
     },
     "execution_count": 7,
     "metadata": {},
     "output_type": "execute_result"
    }
   ],
   "source": [
    "plays_df.columns"
   ]
  },
  {
   "cell_type": "code",
   "execution_count": 8,
   "metadata": {},
   "outputs": [
    {
     "data": {
      "text/plain": [
       "Index(['gameId', 'season', 'week', 'gameDate', 'gameTimeEastern',\n",
       "       'homeTeamAbbr', 'visitorTeamAbbr', 'homeFinalScore',\n",
       "       'visitorFinalScore'],\n",
       "      dtype='object')"
      ]
     },
     "execution_count": 8,
     "metadata": {},
     "output_type": "execute_result"
    }
   ],
   "source": [
    "games_df.columns"
   ]
  },
  {
   "cell_type": "code",
   "execution_count": 9,
   "metadata": {},
   "outputs": [],
   "source": [
    "df = plays_df.merge(games_df[['gameId','homeTeamAbbr', 'visitorTeamAbbr']], on='gameId', how='left')\n",
    "# Merged two data set on gameIds"
   ]
  },
  {
   "cell_type": "markdown",
   "metadata": {},
   "source": [
    "I've merged the two data-set for is possesion team whether leading or not"
   ]
  },
  {
   "cell_type": "code",
   "execution_count": 10,
   "metadata": {},
   "outputs": [
    {
     "data": {
      "text/plain": [
       "Index(['gameId', 'playId', 'playDescription', 'quarter', 'down', 'yardsToGo',\n",
       "       'possessionTeam', 'defensiveTeam', 'yardlineSide', 'yardlineNumber',\n",
       "       'gameClock', 'preSnapHomeScore', 'preSnapVisitorScore',\n",
       "       'playNullifiedByPenalty', 'absoluteYardlineNumber',\n",
       "       'preSnapHomeTeamWinProbability', 'preSnapVisitorTeamWinProbability',\n",
       "       'expectedPoints', 'offenseFormation', 'receiverAlignment',\n",
       "       'playClockAtSnap', 'passResult', 'passLength', 'targetX', 'targetY',\n",
       "       'playAction', 'dropbackType', 'dropbackDistance', 'passLocationType',\n",
       "       'timeToThrow', 'timeInTackleBox', 'timeToSack', 'passTippedAtLine',\n",
       "       'unblockedPressure', 'qbSpike', 'qbKneel', 'qbSneak',\n",
       "       'rushLocationType', 'penaltyYards', 'prePenaltyYardsGained',\n",
       "       'yardsGained', 'homeTeamWinProbabilityAdded',\n",
       "       'visitorTeamWinProbilityAdded', 'expectedPointsAdded', 'isDropback',\n",
       "       'pff_runConceptPrimary', 'pff_runConceptSecondary', 'pff_runPassOption',\n",
       "       'pff_passCoverage', 'pff_manZone', 'homeTeamAbbr', 'visitorTeamAbbr'],\n",
       "      dtype='object')"
      ]
     },
     "execution_count": 10,
     "metadata": {},
     "output_type": "execute_result"
    }
   ],
   "source": [
    "df.columns"
   ]
  },
  {
   "cell_type": "code",
   "execution_count": 11,
   "metadata": {},
   "outputs": [],
   "source": [
    "features_to_drop = ['gameId','playId','isDropback', 'expectedPointsAdded', 'yardsGained', 'visitorTeamWinProbilityAdded',\n",
    "                    'homeTeamWinProbabilityAdded','prePenaltyYardsGained','penaltyYards','rushLocationType','qbSneak',\n",
    "                    'qbKneel','qbSpike','unblockedPressure','passTippedAtLine','timeToSack','timeInTackleBox','timeToThrow',\n",
    "                    'passLocationType','dropbackDistance','dropbackType','playAction','targetX', 'targetY','passLength',\n",
    "                    'playClockAtSnap', 'expectedPoints','preSnapVisitorTeamWinProbability','preSnapHomeTeamWinProbability',\n",
    "                    'playNullifiedByPenalty','yardlineSide','yardlineNumber','playDescription','pff_manZone','pff_passCoverage',\n",
    "                    'pff_runPassOption','pff_runConceptSecondary','pff_runConceptPrimary']\n",
    " "
   ]
  },
  {
   "cell_type": "markdown",
   "metadata": {},
   "source": [
    "In here I've droped unnecessary columns for prediction"
   ]
  },
  {
   "cell_type": "code",
   "execution_count": 12,
   "metadata": {},
   "outputs": [],
   "source": [
    "df_cleaned = drop_unwanted_features(df,features_to_drop)\n"
   ]
  },
  {
   "cell_type": "code",
   "execution_count": 13,
   "metadata": {},
   "outputs": [
    {
     "data": {
      "text/html": [
       "<div>\n",
       "<style scoped>\n",
       "    .dataframe tbody tr th:only-of-type {\n",
       "        vertical-align: middle;\n",
       "    }\n",
       "\n",
       "    .dataframe tbody tr th {\n",
       "        vertical-align: top;\n",
       "    }\n",
       "\n",
       "    .dataframe thead th {\n",
       "        text-align: right;\n",
       "    }\n",
       "</style>\n",
       "<table border=\"1\" class=\"dataframe\">\n",
       "  <thead>\n",
       "    <tr style=\"text-align: right;\">\n",
       "      <th></th>\n",
       "      <th>quarter</th>\n",
       "      <th>down</th>\n",
       "      <th>yardsToGo</th>\n",
       "      <th>possessionTeam</th>\n",
       "      <th>defensiveTeam</th>\n",
       "      <th>gameClock</th>\n",
       "      <th>preSnapHomeScore</th>\n",
       "      <th>preSnapVisitorScore</th>\n",
       "      <th>absoluteYardlineNumber</th>\n",
       "      <th>offenseFormation</th>\n",
       "      <th>receiverAlignment</th>\n",
       "      <th>passResult</th>\n",
       "      <th>homeTeamAbbr</th>\n",
       "      <th>visitorTeamAbbr</th>\n",
       "    </tr>\n",
       "  </thead>\n",
       "  <tbody>\n",
       "    <tr>\n",
       "      <th>5480</th>\n",
       "      <td>4</td>\n",
       "      <td>2</td>\n",
       "      <td>10</td>\n",
       "      <td>GB</td>\n",
       "      <td>NYG</td>\n",
       "      <td>06:01</td>\n",
       "      <td>20</td>\n",
       "      <td>27</td>\n",
       "      <td>85</td>\n",
       "      <td>SHOTGUN</td>\n",
       "      <td>2x2</td>\n",
       "      <td>NaN</td>\n",
       "      <td>GB</td>\n",
       "      <td>NYG</td>\n",
       "    </tr>\n",
       "    <tr>\n",
       "      <th>11412</th>\n",
       "      <td>3</td>\n",
       "      <td>3</td>\n",
       "      <td>11</td>\n",
       "      <td>TEN</td>\n",
       "      <td>LV</td>\n",
       "      <td>04:55</td>\n",
       "      <td>24</td>\n",
       "      <td>13</td>\n",
       "      <td>86</td>\n",
       "      <td>SHOTGUN</td>\n",
       "      <td>2x2</td>\n",
       "      <td>IN</td>\n",
       "      <td>TEN</td>\n",
       "      <td>LV</td>\n",
       "    </tr>\n",
       "    <tr>\n",
       "      <th>4730</th>\n",
       "      <td>3</td>\n",
       "      <td>3</td>\n",
       "      <td>3</td>\n",
       "      <td>ATL</td>\n",
       "      <td>LAC</td>\n",
       "      <td>03:48</td>\n",
       "      <td>10</td>\n",
       "      <td>14</td>\n",
       "      <td>107</td>\n",
       "      <td>SHOTGUN</td>\n",
       "      <td>2x2</td>\n",
       "      <td>NaN</td>\n",
       "      <td>ATL</td>\n",
       "      <td>LAC</td>\n",
       "    </tr>\n",
       "    <tr>\n",
       "      <th>8248</th>\n",
       "      <td>2</td>\n",
       "      <td>1</td>\n",
       "      <td>10</td>\n",
       "      <td>GB</td>\n",
       "      <td>TB</td>\n",
       "      <td>00:41</td>\n",
       "      <td>3</td>\n",
       "      <td>14</td>\n",
       "      <td>37</td>\n",
       "      <td>SHOTGUN</td>\n",
       "      <td>3x1</td>\n",
       "      <td>C</td>\n",
       "      <td>TB</td>\n",
       "      <td>GB</td>\n",
       "    </tr>\n",
       "    <tr>\n",
       "      <th>14521</th>\n",
       "      <td>2</td>\n",
       "      <td>3</td>\n",
       "      <td>5</td>\n",
       "      <td>DET</td>\n",
       "      <td>PHI</td>\n",
       "      <td>05:20</td>\n",
       "      <td>7</td>\n",
       "      <td>21</td>\n",
       "      <td>40</td>\n",
       "      <td>SHOTGUN</td>\n",
       "      <td>3x1</td>\n",
       "      <td>C</td>\n",
       "      <td>DET</td>\n",
       "      <td>PHI</td>\n",
       "    </tr>\n",
       "  </tbody>\n",
       "</table>\n",
       "</div>"
      ],
      "text/plain": [
       "       quarter  down  yardsToGo possessionTeam defensiveTeam gameClock  \\\n",
       "5480         4     2         10             GB           NYG     06:01   \n",
       "11412        3     3         11            TEN            LV     04:55   \n",
       "4730         3     3          3            ATL           LAC     03:48   \n",
       "8248         2     1         10             GB            TB     00:41   \n",
       "14521        2     3          5            DET           PHI     05:20   \n",
       "\n",
       "       preSnapHomeScore  preSnapVisitorScore  absoluteYardlineNumber  \\\n",
       "5480                 20                   27                      85   \n",
       "11412                24                   13                      86   \n",
       "4730                 10                   14                     107   \n",
       "8248                  3                   14                      37   \n",
       "14521                 7                   21                      40   \n",
       "\n",
       "      offenseFormation receiverAlignment passResult homeTeamAbbr  \\\n",
       "5480           SHOTGUN               2x2        NaN           GB   \n",
       "11412          SHOTGUN               2x2         IN          TEN   \n",
       "4730           SHOTGUN               2x2        NaN          ATL   \n",
       "8248           SHOTGUN               3x1          C           TB   \n",
       "14521          SHOTGUN               3x1          C          DET   \n",
       "\n",
       "      visitorTeamAbbr  \n",
       "5480              NYG  \n",
       "11412              LV  \n",
       "4730              LAC  \n",
       "8248               GB  \n",
       "14521             PHI  "
      ]
     },
     "execution_count": 13,
     "metadata": {},
     "output_type": "execute_result"
    }
   ],
   "source": [
    "df_cleaned.sample(5)"
   ]
  },
  {
   "cell_type": "code",
   "execution_count": 14,
   "metadata": {},
   "outputs": [
    {
     "name": "stdout",
     "output_type": "stream",
     "text": [
      "<class 'pandas.core.frame.DataFrame'>\n",
      "RangeIndex: 16124 entries, 0 to 16123\n",
      "Data columns (total 14 columns):\n",
      " #   Column                  Non-Null Count  Dtype \n",
      "---  ------                  --------------  ----- \n",
      " 0   quarter                 16124 non-null  int64 \n",
      " 1   down                    16124 non-null  int64 \n",
      " 2   yardsToGo               16124 non-null  int64 \n",
      " 3   possessionTeam          16124 non-null  object\n",
      " 4   defensiveTeam           16124 non-null  object\n",
      " 5   gameClock               16124 non-null  object\n",
      " 6   preSnapHomeScore        16124 non-null  int64 \n",
      " 7   preSnapVisitorScore     16124 non-null  int64 \n",
      " 8   absoluteYardlineNumber  16124 non-null  int64 \n",
      " 9   offenseFormation        15936 non-null  object\n",
      " 10  receiverAlignment       15936 non-null  object\n",
      " 11  passResult              9736 non-null   object\n",
      " 12  homeTeamAbbr            16124 non-null  object\n",
      " 13  visitorTeamAbbr         16124 non-null  object\n",
      "dtypes: int64(6), object(8)\n",
      "memory usage: 1.7+ MB\n"
     ]
    }
   ],
   "source": [
    "df_cleaned.info()"
   ]
  },
  {
   "cell_type": "markdown",
   "metadata": {},
   "source": [
    "## Feature Creation"
   ]
  },
  {
   "cell_type": "markdown",
   "metadata": {},
   "source": [
    "I have tried to create my features in scope of situational football:\n",
    "- Is my team behind? I would tend to play because I would tie the fame asap.\n",
    "- Is my team needs to hurry for a TD because we are behind and run out of time?\n",
    "- Are we leading and inside last two mins? I would tend to run the ball because I gotta melt time.  "
   ]
  },
  {
   "cell_type": "code",
   "execution_count": 15,
   "metadata": {},
   "outputs": [],
   "source": [
    "# Half feature created \n",
    "df_cleaned['half'] = df_cleaned['quarter'].apply(lambda row: 1 if row < 3 else 2)"
   ]
  },
  {
   "cell_type": "code",
   "execution_count": 16,
   "metadata": {},
   "outputs": [],
   "source": [
    "# Remaing time feature created\n",
    "df_cleaned.loc[:, 'remainingTime'] = df_cleaned.apply(calculate_remaining_time_end_of_half, axis=1)\n"
   ]
  },
  {
   "cell_type": "code",
   "execution_count": 17,
   "metadata": {},
   "outputs": [],
   "source": [
    "# df_cleaned dataset score data store as preSnapHomeScore and preSnapVisitor but team stored as possesionTeam and defensiveTeam.    \n",
    "\n",
    "df_cleaned['possessionTeamScore'] = df_cleaned.apply(lambda row: row['preSnapHomeScore'] if row['possessionTeam'] == row['homeTeamAbbr'] else row['preSnapVisitorScore'], axis=1)\n",
    "  \n",
    "df_cleaned['defensiveTeamScore'] = df_cleaned.apply(lambda row: row['preSnapVisitorScore'] if row['possessionTeam'] == row['homeTeamAbbr'] else row['preSnapHomeScore'], axis=1)\n",
    "\n",
    "# So I converted preSnapHomeScore and preSnapVisitor data to possessionTeamScore and defensiveTeamScore."
   ]
  },
  {
   "cell_type": "code",
   "execution_count": 18,
   "metadata": {},
   "outputs": [],
   "source": [
    "# This feature shows how many yards left for TD\n",
    "df_cleaned['yardsToTd'] = df_cleaned['absoluteYardlineNumber'] - 10"
   ]
  },
  {
   "cell_type": "code",
   "execution_count": 19,
   "metadata": {},
   "outputs": [],
   "source": [
    "# This feature creates a score difference and shows that possesion team leading or not.  \n",
    "df_cleaned['possessionTeamLeadsBy'] = df_cleaned['possessionTeamScore'] - df_cleaned['defensiveTeamScore']"
   ]
  },
  {
   "cell_type": "code",
   "execution_count": 20,
   "metadata": {},
   "outputs": [],
   "source": [
    "df_cleaned['isPossessionTeamLead'] = df_cleaned.apply(lambda row: 0 if row['possessionTeamLeadsBy'] > 0 else 1, axis=1 )\n",
    "df_cleaned['isPossessionTeamLead'] = df_cleaned['isPossessionTeamLead'].astype('byte')"
   ]
  },
  {
   "cell_type": "code",
   "execution_count": 21,
   "metadata": {},
   "outputs": [
    {
     "name": "stdout",
     "output_type": "stream",
     "text": [
      "   half  quarter gameClock  remainingTime  down  yardsToGo  yardsToTd  \\\n",
      "0     2        3     01:54            114     1         10         21   \n",
      "1     2        4     02:13            133     1         10          8   \n",
      "2     2        4     02:00            120     3         12         20   \n",
      "3     1        1     09:28           1468     2         10         23   \n",
      "4     2        3     02:16            136     2          8         27   \n",
      "\n",
      "   possessionTeamLeadsBy  isPossessionTeamLead possessionTeam  ...  \\\n",
      "0                     18                     0            CIN  ...   \n",
      "1                      0                     1            CIN  ...   \n",
      "2                    -14                     1            HOU  ...   \n",
      "3                      0                     1             KC  ...   \n",
      "4                      0                     1            BAL  ...   \n",
      "\n",
      "  homeTeamAbbr visitorTeamAbbr possessionTeamScore  defensiveTeamScore  \\\n",
      "0          CIN             ATL                  35                  17   \n",
      "1          DAL             CIN                  17                  17   \n",
      "2          HOU             TEN                   3                  17   \n",
      "3           KC             TEN                   0                   0   \n",
      "4           TB             BAL                  10                  10   \n",
      "\n",
      "   preSnapHomeScore  preSnapVisitorScore  absoluteYardlineNumber  \\\n",
      "0                35                   17                      31   \n",
      "1                17                   17                      18   \n",
      "2                 3                   17                      30   \n",
      "3                 0                    0                      33   \n",
      "4                10                   10                      37   \n",
      "\n",
      "   offenseFormation receiverAlignment passResult  \n",
      "0             EMPTY               3x2          C  \n",
      "1             EMPTY               3x2          C  \n",
      "2           SHOTGUN               2x2          C  \n",
      "3           SHOTGUN               2x2          C  \n",
      "4            PISTOL               3x1        NaN  \n",
      "\n",
      "[5 rows x 21 columns]\n"
     ]
    }
   ],
   "source": [
    "# Get the list of column names\n",
    "new_order = ['half','quarter', 'gameClock','remainingTime', 'down', 'yardsToGo', 'yardsToTd','possessionTeamLeadsBy','isPossessionTeamLead',\n",
    "             'possessionTeam', 'defensiveTeam','homeTeamAbbr', 'visitorTeamAbbr','possessionTeamScore', 'defensiveTeamScore',\n",
    "             'preSnapHomeScore','preSnapVisitorScore', 'absoluteYardlineNumber', 'offenseFormation', 'receiverAlignment', 'passResult']\n",
    "\n",
    "# Reorder the columns in the DataFrame\n",
    "df_cleaned = df_cleaned[new_order]\n",
    "\n",
    "# Check the reordered DataFrame\n",
    "print(df_cleaned.head())\n"
   ]
  },
  {
   "cell_type": "code",
   "execution_count": 22,
   "metadata": {},
   "outputs": [
    {
     "data": {
      "text/plain": [
       "offenseFormation\n",
       "SHOTGUN       8791\n",
       "SINGLEBACK    3915\n",
       "EMPTY         1342\n",
       "I_FORM        1035\n",
       "PISTOL         641\n",
       "JUMBO          125\n",
       "WILDCAT         87\n",
       "Name: count, dtype: int64"
      ]
     },
     "execution_count": 22,
     "metadata": {},
     "output_type": "execute_result"
    }
   ],
   "source": [
    "df_cleaned['offenseFormation'].value_counts()"
   ]
  },
  {
   "cell_type": "markdown",
   "metadata": {},
   "source": [
    "As we know some formations have tendencies for pass or run games"
   ]
  },
  {
   "cell_type": "code",
   "execution_count": 23,
   "metadata": {},
   "outputs": [],
   "source": [
    "df_cleaned = df_cleaned.copy()  # Create a deep copy of the DataFrame\n",
    "heavyPass = ['SHOTGUN', 'EMPTY']\n",
    "df_cleaned['isHeavyRun/Pass'] = df_cleaned['offenseFormation'].apply(lambda formation: 1 if formation in heavyPass else 0)\n",
    "df_cleaned['isHeavyRun/Pass'] = df_cleaned['isHeavyRun/Pass'].astype('byte')\n"
   ]
  },
  {
   "cell_type": "code",
   "execution_count": 24,
   "metadata": {},
   "outputs": [
    {
     "data": {
      "text/plain": [
       "receiverAlignment\n",
       "2x2    6483\n",
       "3x1    6044\n",
       "2x1    1824\n",
       "3x2    1232\n",
       "1x1     160\n",
       "4x1     129\n",
       "2x0      45\n",
       "3x0       9\n",
       "1x0       8\n",
       "4x2       1\n",
       "3x3       1\n",
       "Name: count, dtype: int64"
      ]
     },
     "execution_count": 24,
     "metadata": {},
     "output_type": "execute_result"
    }
   ],
   "source": [
    "df_cleaned['receiverAlignment'].value_counts()"
   ]
  },
  {
   "cell_type": "code",
   "execution_count": 25,
   "metadata": {},
   "outputs": [],
   "source": [
    "heavyRun = ['1x0', '2x0', '3x0', '1x1', '2x1']\n",
    "df_cleaned.loc[:, 'isWRsHeavyRun/Pass'] = df_cleaned['receiverAlignment'].apply(lambda alignment: 0 if alignment in heavyRun else 1)\n",
    "df_cleaned['isWRsHeavyRun/Pass'] = df_cleaned['isWRsHeavyRun/Pass'].astype('byte')"
   ]
  },
  {
   "cell_type": "code",
   "execution_count": 26,
   "metadata": {},
   "outputs": [],
   "source": [
    "# This feature is bytes variable that show the game wheter game is pass (1) or not (0) \n",
    "df_cleaned['WasItPass'] = df_cleaned['passResult'].apply(lambda row: 0 if pd.isnull(row) == True else 1)\n"
   ]
  },
  {
   "cell_type": "code",
   "execution_count": 27,
   "metadata": {},
   "outputs": [
    {
     "name": "stdout",
     "output_type": "stream",
     "text": [
      "<class 'pandas.core.frame.DataFrame'>\n",
      "RangeIndex: 16124 entries, 0 to 16123\n",
      "Data columns (total 24 columns):\n",
      " #   Column                  Non-Null Count  Dtype \n",
      "---  ------                  --------------  ----- \n",
      " 0   half                    16124 non-null  int64 \n",
      " 1   quarter                 16124 non-null  int64 \n",
      " 2   gameClock               16124 non-null  object\n",
      " 3   remainingTime           16124 non-null  int64 \n",
      " 4   down                    16124 non-null  int64 \n",
      " 5   yardsToGo               16124 non-null  int64 \n",
      " 6   yardsToTd               16124 non-null  int64 \n",
      " 7   possessionTeamLeadsBy   16124 non-null  int64 \n",
      " 8   isPossessionTeamLead    16124 non-null  int8  \n",
      " 9   possessionTeam          16124 non-null  object\n",
      " 10  defensiveTeam           16124 non-null  object\n",
      " 11  homeTeamAbbr            16124 non-null  object\n",
      " 12  visitorTeamAbbr         16124 non-null  object\n",
      " 13  possessionTeamScore     16124 non-null  int64 \n",
      " 14  defensiveTeamScore      16124 non-null  int64 \n",
      " 15  preSnapHomeScore        16124 non-null  int64 \n",
      " 16  preSnapVisitorScore     16124 non-null  int64 \n",
      " 17  absoluteYardlineNumber  16124 non-null  int64 \n",
      " 18  offenseFormation        15936 non-null  object\n",
      " 19  receiverAlignment       15936 non-null  object\n",
      " 20  passResult              9736 non-null   object\n",
      " 21  isHeavyRun/Pass         16124 non-null  int8  \n",
      " 22  isWRsHeavyRun/Pass      16124 non-null  int8  \n",
      " 23  WasItPass               16124 non-null  int64 \n",
      "dtypes: int64(13), int8(3), object(8)\n",
      "memory usage: 2.6+ MB\n"
     ]
    }
   ],
   "source": [
    "df_cleaned.info()"
   ]
  },
  {
   "cell_type": "markdown",
   "metadata": {},
   "source": [
    "## Train - Test Split"
   ]
  },
  {
   "cell_type": "code",
   "execution_count": 28,
   "metadata": {},
   "outputs": [],
   "source": [
    "X, y = make_classification(n_samples=1000, n_features=20, n_classes=2, n_informative=2, n_redundant=10, random_state=42)"
   ]
  },
  {
   "cell_type": "markdown",
   "metadata": {},
   "source": [
    "## Train XGboost Model - Make Predictions"
   ]
  },
  {
   "cell_type": "code",
   "execution_count": 29,
   "metadata": {},
   "outputs": [],
   "source": [
    "model = XGBClassifier(use_label_encoder=False, eval_metric='logloss')\n",
    "sss = StratifiedShuffleSplit(n_splits=5, test_size=0.2, random_state=42)"
   ]
  },
  {
   "cell_type": "code",
   "execution_count": 30,
   "metadata": {},
   "outputs": [
    {
     "name": "stderr",
     "output_type": "stream",
     "text": [
      "c:\\Users\\Karahan C\\Desktop\\Portfolio Projects\\MARKETING\\myenv\\lib\\site-packages\\xgboost\\core.py:158: UserWarning: [01:37:29] WARNING: C:\\buildkite-agent\\builds\\buildkite-windows-cpu-autoscaling-group-i-0ed59c031377d09b8-1\\xgboost\\xgboost-ci-windows\\src\\learner.cc:740: \n",
      "Parameters: { \"use_label_encoder\" } are not used.\n",
      "\n",
      "  warnings.warn(smsg, UserWarning)\n",
      "c:\\Users\\Karahan C\\Desktop\\Portfolio Projects\\MARKETING\\myenv\\lib\\site-packages\\xgboost\\core.py:158: UserWarning: [01:37:30] WARNING: C:\\buildkite-agent\\builds\\buildkite-windows-cpu-autoscaling-group-i-0ed59c031377d09b8-1\\xgboost\\xgboost-ci-windows\\src\\learner.cc:740: \n",
      "Parameters: { \"use_label_encoder\" } are not used.\n",
      "\n",
      "  warnings.warn(smsg, UserWarning)\n"
     ]
    }
   ],
   "source": [
    "y_true = []\n",
    "y_preds = []\n",
    "\n",
    "for train_index, test_index in sss.split(X, y):\n",
    "    X_train, X_test = X[train_index], X[test_index]\n",
    "    y_train, y_test = y[train_index], y[test_index]\n",
    "\n",
    "    model.fit(X_train, y_train)\n",
    "    y_pred = model.predict(X_test)\n",
    "    y_pred_prob = model.predict_proba(X_test)[:, 1]\n",
    "    \n",
    "    # Store true and predicted labels \n",
    "    y_true.extend(y_test)\n",
    "    y_preds.extend(y_pred)\n",
    "    "
   ]
  },
  {
   "cell_type": "markdown",
   "metadata": {},
   "source": [
    "## Model Evaluation"
   ]
  },
  {
   "cell_type": "code",
   "execution_count": 31,
   "metadata": {},
   "outputs": [
    {
     "name": "stdout",
     "output_type": "stream",
     "text": [
      "Accuracy: 0.92\n",
      "Precision: 0.9278350515463918\n",
      "Recall: 0.9090909090909091\n",
      "F1 Score: 0.9183673469387755\n"
     ]
    }
   ],
   "source": [
    "from sklearn.metrics import accuracy_score, precision_score, recall_score, f1_score\n",
    "\n",
    "accuracy = accuracy_score(y_test, y_pred)\n",
    "precision = precision_score(y_test, y_pred)\n",
    "recall = recall_score(y_test, y_pred)\n",
    "f1 = f1_score(y_test, y_pred)\n",
    "\n",
    "print(f'Accuracy: {accuracy}')\n",
    "print(f'Precision: {precision}')\n",
    "print(f'Recall: {recall}')\n",
    "print(f'F1 Score: {f1}')\n"
   ]
  },
  {
   "cell_type": "code",
   "execution_count": 32,
   "metadata": {},
   "outputs": [
    {
     "data": {
      "image/png": "[encoded data removed]",
      "text/plain": [
       "<Figure size 640x480 with 1 Axes>"
      ]
     },
     "metadata": {},
     "output_type": "display_data"
    }
   ],
   "source": [
    "from sklearn.metrics import roc_auc_score, roc_curve\n",
    "import matplotlib.pyplot as plt\n",
    "y_pred_prob = y_pred\n",
    "auc = roc_auc_score(y_test, y_pred_prob)\n",
    "fpr, tpr, _ = roc_curve(y_test, y_pred_prob)\n",
    "\n",
    "plt.plot(fpr, tpr, label=f'XGBoost (AUC = {auc:.2f})')\n",
    "plt.xlabel('False Positive Rate')\n",
    "plt.ylabel('True Positive Rate')\n",
    "plt.title('ROC Curve')\n",
    "plt.legend()\n",
    "plt.show()\n"
   ]
  },
  {
   "cell_type": "code",
   "execution_count": 33,
   "metadata": {},
   "outputs": [
    {
     "name": "stdout",
     "output_type": "stream",
     "text": [
      "Best parameters: {'colsample_bytree': 0.7, 'gamma': 0, 'learning_rate': 0.01, 'max_depth': 7, 'min_child_weight': 1, 'n_estimators': 300, 'subsample': 0.7}\n"
     ]
    }
   ],
   "source": [
    "param_grid = {\n",
    "    'learning_rate': [0.01, 0.05, 0.1],\n",
    "    'n_estimators': [100, 200, 300],\n",
    "    'max_depth': [3, 5, 7],\n",
    "    'min_child_weight': [1, 3, 5],\n",
    "    'gamma': [0, 0.1, 0.3],\n",
    "    'subsample': [0.7, 0.8, 1.0],\n",
    "    'colsample_bytree': [0.7, 0.8, 1.0]}\n",
    "\n",
    "xgb_clf = XGBClassifier(objective='binary:logistic')\n",
    "grid = GridSearchCV(xgb_clf, param_grid, cv=5, scoring='accuracy',verbose=1)\n",
    "grid.fit(X_train, y_train)\n",
    "\n",
    "print(\"Best parameters:\", grid.best_params_)\n",
    "\n",
    "# Get the best parameters\n",
    "best_params = grid.best_params_\n",
    "\n",
    "\n",
    "# Fit model with best parameters\n",
    "best_xgb_model = grid.best_estimator_"
   ]
  },
  {
   "cell_type": "markdown",
   "metadata": {},
   "source": [
    "## Feature Importance"
   ]
  },
  {
   "cell_type": "code",
   "execution_count": 36,
   "metadata": {},
   "outputs": [
    {
     "data": {
      "image/png": "[encoded data removed]",
      "text/plain": [
       "<Figure size 640x480 with 1 Axes>"
      ]
     },
     "metadata": {},
     "output_type": "display_data"
    }
   ],
   "source": [
    "# Plot feature importance\n",
    "xgb.plot_importance(best_xgb_model)\n",
    "plt.show()\n"
   ]
  },
  {
   "cell_type": "code",
   "execution_count": 34,
   "metadata": {},
   "outputs": [
    {
     "name": "stdout",
     "output_type": "stream",
     "text": [
      "Final Model Accuracy: 0.925\n"
     ]
    }
   ],
   "source": [
    "y_pred_final = best_xgb_model.predict(X_test)\n",
    "accuracy_final = accuracy_score(y_test, y_pred_final)\n",
    "print(f'Final Model Accuracy: {accuracy_final}') "
   ]
  }
 ],
 "metadata": {
  "kernelspec": {
   "display_name": "myenv",
   "language": "python",
   "name": "python3"
  },
  "language_info": {
   "codemirror_mode": {
    "name": "ipython",
    "version": 3
   },
   "file_extension": ".py",
   "mimetype": "text/x-python",
   "name": "python",
   "nbconvert_exporter": "python",
   "pygments_lexer": "ipython3",
   "version": "3.10.9"
  }
 },
 "nbformat": 4,
 "nbformat_minor": 2
}
